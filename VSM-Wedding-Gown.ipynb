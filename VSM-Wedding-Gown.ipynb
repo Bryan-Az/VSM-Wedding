{
 "cells": [
  {
   "cell_type": "code",
   "execution_count": 1,
   "metadata": {},
   "outputs": [],
   "source": [
    "import pandas as pd\n",
    "import os"
   ]
  },
  {
   "cell_type": "markdown",
   "metadata": {},
   "source": [
    "# Data Loading & Feature Engineering\n",
    " Constructing the Document Meta Dataframe\n",
    " The CSV file 'data/wedding_data.csv' should contain the metadata and content used in the src/main.py file to load the document data into the TF-IDF Vector Space \"Wedding Gown\" Model."
   ]
  },
  {
   "cell_type": "code",
   "execution_count": 9,
   "metadata": {},
   "outputs": [],
   "source": [
    "features = {\n",
    "'document': ['d1', 'd2', 'd3', 'd4'],\n",
    "'filepath': ['./VectorSpaceModel/src/data/d1.txt', './VectorSpaceModel/src/data/d2.txt', './VectorSpaceModel/src/data/d3.txt', './VectorSpaceModel/src/data/d4.txt']\n",
    "}\n",
    "document_dataframe = pd.DataFrame(features)"
   ]
  },
  {
   "cell_type": "code",
   "execution_count": 10,
   "metadata": {},
   "outputs": [
    {
     "data": {
      "text/html": [
       "<div>\n",
       "<style scoped>\n",
       "    .dataframe tbody tr th:only-of-type {\n",
       "        vertical-align: middle;\n",
       "    }\n",
       "\n",
       "    .dataframe tbody tr th {\n",
       "        vertical-align: top;\n",
       "    }\n",
       "\n",
       "    .dataframe thead th {\n",
       "        text-align: right;\n",
       "    }\n",
       "</style>\n",
       "<table border=\"1\" class=\"dataframe\">\n",
       "  <thead>\n",
       "    <tr style=\"text-align: right;\">\n",
       "      <th></th>\n",
       "      <th>document</th>\n",
       "      <th>filepath</th>\n",
       "    </tr>\n",
       "  </thead>\n",
       "  <tbody>\n",
       "    <tr>\n",
       "      <th>0</th>\n",
       "      <td>d1</td>\n",
       "      <td>./VectorSpaceModel/src/data/d1.txt</td>\n",
       "    </tr>\n",
       "    <tr>\n",
       "      <th>1</th>\n",
       "      <td>d2</td>\n",
       "      <td>./VectorSpaceModel/src/data/d2.txt</td>\n",
       "    </tr>\n",
       "    <tr>\n",
       "      <th>2</th>\n",
       "      <td>d3</td>\n",
       "      <td>./VectorSpaceModel/src/data/d3.txt</td>\n",
       "    </tr>\n",
       "    <tr>\n",
       "      <th>3</th>\n",
       "      <td>d4</td>\n",
       "      <td>./VectorSpaceModel/src/data/d4.txt</td>\n",
       "    </tr>\n",
       "  </tbody>\n",
       "</table>\n",
       "</div>"
      ],
      "text/plain": [
       "  document                            filepath\n",
       "0       d1  ./VectorSpaceModel/src/data/d1.txt\n",
       "1       d2  ./VectorSpaceModel/src/data/d2.txt\n",
       "2       d3  ./VectorSpaceModel/src/data/d3.txt\n",
       "3       d4  ./VectorSpaceModel/src/data/d4.txt"
      ]
     },
     "execution_count": 10,
     "metadata": {},
     "output_type": "execute_result"
    }
   ],
   "source": [
    "document_dataframe"
   ]
  },
  {
   "cell_type": "code",
   "execution_count": 11,
   "metadata": {},
   "outputs": [
    {
     "data": {
      "text/html": [
       "<div>\n",
       "<style scoped>\n",
       "    .dataframe tbody tr th:only-of-type {\n",
       "        vertical-align: middle;\n",
       "    }\n",
       "\n",
       "    .dataframe tbody tr th {\n",
       "        vertical-align: top;\n",
       "    }\n",
       "\n",
       "    .dataframe thead th {\n",
       "        text-align: right;\n",
       "    }\n",
       "</style>\n",
       "<table border=\"1\" class=\"dataframe\">\n",
       "  <thead>\n",
       "    <tr style=\"text-align: right;\">\n",
       "      <th></th>\n",
       "      <th>document</th>\n",
       "      <th>filepath</th>\n",
       "      <th>content</th>\n",
       "    </tr>\n",
       "  </thead>\n",
       "  <tbody>\n",
       "    <tr>\n",
       "      <th>0</th>\n",
       "      <td>d1</td>\n",
       "      <td>./VectorSpaceModel/src/data/d1.txt</td>\n",
       "      <td>User selected Wedding gown.</td>\n",
       "    </tr>\n",
       "    <tr>\n",
       "      <th>1</th>\n",
       "      <td>d2</td>\n",
       "      <td>./VectorSpaceModel/src/data/d2.txt</td>\n",
       "      <td>User ordered on-line rose flowers.</td>\n",
       "    </tr>\n",
       "    <tr>\n",
       "      <th>2</th>\n",
       "      <td>d3</td>\n",
       "      <td>./VectorSpaceModel/src/data/d3.txt</td>\n",
       "      <td>User searched diamond ring.</td>\n",
       "    </tr>\n",
       "    <tr>\n",
       "      <th>3</th>\n",
       "      <td>d4</td>\n",
       "      <td>./VectorSpaceModel/src/data/d4.txt</td>\n",
       "      <td>User selected white wedding gown, online flowe...</td>\n",
       "    </tr>\n",
       "  </tbody>\n",
       "</table>\n",
       "</div>"
      ],
      "text/plain": [
       "  document                            filepath  \\\n",
       "0       d1  ./VectorSpaceModel/src/data/d1.txt   \n",
       "1       d2  ./VectorSpaceModel/src/data/d2.txt   \n",
       "2       d3  ./VectorSpaceModel/src/data/d3.txt   \n",
       "3       d4  ./VectorSpaceModel/src/data/d4.txt   \n",
       "\n",
       "                                             content  \n",
       "0                        User selected Wedding gown.  \n",
       "1                 User ordered on-line rose flowers.  \n",
       "2                        User searched diamond ring.  \n",
       "3  User selected white wedding gown, online flowe...  "
      ]
     },
     "execution_count": 11,
     "metadata": {},
     "output_type": "execute_result"
    }
   ],
   "source": [
    "def get_content(filepath):\n",
    "    with open(filepath, 'r') as f:\n",
    "        content = f.read()\n",
    "    return content\n",
    "\n",
    "document_dataframe['content'] = document_dataframe['filepath'].apply(lambda x: get_content(x))\n",
    "document_dataframe\n"
   ]
  },
  {
   "cell_type": "code",
   "execution_count": 12,
   "metadata": {},
   "outputs": [],
   "source": [
    "document_dataframe.to_csv('./VectorSpaceModel/src/data/wedding_data.csv', index=False)"
   ]
  }
 ],
 "metadata": {
  "kernelspec": {
   "display_name": "artai",
   "language": "python",
   "name": "python3"
  },
  "language_info": {
   "codemirror_mode": {
    "name": "ipython",
    "version": 3
   },
   "file_extension": ".py",
   "mimetype": "text/x-python",
   "name": "python",
   "nbconvert_exporter": "python",
   "pygments_lexer": "ipython3",
   "version": "3.11.5"
  }
 },
 "nbformat": 4,
 "nbformat_minor": 2
}
